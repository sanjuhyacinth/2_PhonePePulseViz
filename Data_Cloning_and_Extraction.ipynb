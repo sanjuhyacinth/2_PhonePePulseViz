{
 "cells": [
  {
   "cell_type": "markdown",
   "metadata": {},
   "source": [
    "# PhonePe-Pulse-Data-Visualisation-And-Exploration:\n",
    "In this section of the project, we are going to \n",
    "\n",
    "* Extract the data of transactions and users of PhonePe\n",
    "* Upload the data to MySQL database."
   ]
  },
  {
   "cell_type": "code",
   "execution_count": 1,
   "metadata": {},
   "outputs": [],
   "source": [
    "import pandas as pd\n",
    "import mysql.connector as sql\n",
    "import streamlit as st\n",
    "import plotly.express as px\n",
    "import os\n",
    "import json\n",
    "from streamlit_option_menu import option_menu\n",
    "from PIL import Image"
   ]
  },
  {
   "cell_type": "markdown",
   "metadata": {},
   "source": [
    "C:\\Users\\sanju>git clone https://github.com/PhonePe/pulse.git\n",
    "\n",
    "Cloning into 'pulse'...\n",
    "remote: Enumerating objects: 15229, done.\n",
    "remote: Counting objects: 100% (27/27), done.\n",
    "remote: Compressing objects: 100% (26/26), done.\n",
    "remote: Total 15229 (delta 3), reused 1 (delta 1), pack-reused 15202\n",
    "Receiving objects: 100% (15229/15229), 21.95 MiB | 17.70 MiB/s, done.\n",
    "Resolving deltas: 100% (7745/7745), done.\n",
    "Updating files: 100% (7921/7921), done."
   ]
  },
  {
   "cell_type": "markdown",
   "metadata": {},
   "source": [
    "### 1. Extracting the aggregated transactions data:"
   ]
  },
  {
   "cell_type": "code",
   "execution_count": 2,
   "metadata": {},
   "outputs": [],
   "source": [
    "path1 = \"C:/Users/sanju/OneDrive/Desktop/Projects/PhonePe/pulse/data/aggregated/transaction/country/india/state/\"\n",
    "agg_trans_list = os.listdir(path1)\n",
    "\n",
    "columns1 = {'State': [], 'Year': [], 'Quarter': [], 'Transaction_type': [], 'Transaction_count': [],\n",
    "            'Transaction_amount': []}\n",
    "for state in agg_trans_list:\n",
    "    cur_state = path1 + state + \"/\"\n",
    "    agg_year_list = os.listdir(cur_state)\n",
    "    \n",
    "    for year in agg_year_list:\n",
    "        cur_year = cur_state + year + \"/\"\n",
    "        agg_file_list = os.listdir(cur_year)\n",
    "        \n",
    "        for file in agg_file_list:\n",
    "            cur_file = cur_year + file\n",
    "            data = open(cur_file, 'r')\n",
    "            A = json.load(data)\n",
    "            \n",
    "            for i in A['data']['transactionData']:\n",
    "                name = i['name']\n",
    "                count = i['paymentInstruments'][0]['count']\n",
    "                amount = i['paymentInstruments'][0]['amount']\n",
    "                columns1['Transaction_type'].append(name)\n",
    "                columns1['Transaction_count'].append(count)\n",
    "                columns1['Transaction_amount'].append(amount)\n",
    "                columns1['State'].append(state)\n",
    "                columns1['Year'].append(year)\n",
    "                columns1['Quarter'].append(int(file.strip('.json')))\n",
    "                \n",
    "agg_trans_df = pd.DataFrame(columns1)"
   ]
  },
  {
   "cell_type": "code",
   "execution_count": 3,
   "metadata": {},
   "outputs": [
    {
     "data": {
      "text/plain": [
       "array(['andaman-&-nicobar-islands', 'andhra-pradesh', 'arunachal-pradesh',\n",
       "       'assam', 'bihar', 'chandigarh', 'chhattisgarh',\n",
       "       'dadra-&-nagar-haveli-&-daman-&-diu', 'delhi', 'goa', 'gujarat',\n",
       "       'haryana', 'himachal-pradesh', 'jammu-&-kashmir', 'jharkhand',\n",
       "       'karnataka', 'kerala', 'ladakh', 'lakshadweep', 'madhya-pradesh',\n",
       "       'maharashtra', 'manipur', 'meghalaya', 'mizoram', 'nagaland',\n",
       "       'odisha', 'puducherry', 'punjab', 'rajasthan', 'sikkim',\n",
       "       'tamil-nadu', 'telangana', 'tripura', 'uttar-pradesh',\n",
       "       'uttarakhand', 'west-bengal'], dtype=object)"
      ]
     },
     "execution_count": 3,
     "metadata": {},
     "output_type": "execute_result"
    }
   ],
   "source": [
    "# Taking a look at the unique state values:\n",
    "agg_trans_df['State'].unique()"
   ]
  },
  {
   "cell_type": "code",
   "execution_count": 4,
   "metadata": {},
   "outputs": [],
   "source": [
    "# Formatting the States field in the desired format:\n",
    "agg_trans_df['State']=agg_trans_df['State'].str.title()\n",
    "agg_trans_df['State']=agg_trans_df['State'].str.replace(\"-\",\" \")\n",
    "agg_trans_df['State']=agg_trans_df['State'].str.replace('Dadra & Nagar Haveli & Daman & Diu','Dadra and Nagar Haveli and Daman and Diu')"
   ]
  },
  {
   "cell_type": "markdown",
   "metadata": {},
   "source": [
    "### 2. Extracting the aggregated user data:"
   ]
  },
  {
   "cell_type": "code",
   "execution_count": 5,
   "metadata": {},
   "outputs": [],
   "source": [
    "path2 = \"C:/Users/sanju/OneDrive/Desktop/Projects/PhonePe/pulse/data/aggregated/user/country/india/state/\"\n",
    "\n",
    "agg_user_list = os.listdir(path2)\n",
    "\n",
    "columns2 = {'State': [], 'Year': [], 'Quarter': [], 'Brands': [], 'Count': [],\n",
    "            'Percentage': []}\n",
    "for state in agg_user_list:\n",
    "    cur_state = path2 + state + \"/\"\n",
    "    agg_year_list = os.listdir(cur_state)\n",
    "    \n",
    "    for year in agg_year_list:\n",
    "        cur_year = cur_state + year + \"/\"\n",
    "        agg_file_list = os.listdir(cur_year)\n",
    "\n",
    "        for file in agg_file_list:\n",
    "            cur_file = cur_year + file\n",
    "            data = open(cur_file, 'r')\n",
    "            B = json.load(data)\n",
    "            try:\n",
    "                for i in B[\"data\"][\"usersByDevice\"]:\n",
    "                    brand_name = i[\"brand\"]\n",
    "                    counts = i[\"count\"]\n",
    "                    percents = i[\"percentage\"]\n",
    "                    columns2[\"Brands\"].append(brand_name)\n",
    "                    columns2[\"Count\"].append(counts)\n",
    "                    columns2[\"Percentage\"].append(percents)\n",
    "                    columns2[\"State\"].append(state)\n",
    "                    columns2[\"Year\"].append(year)\n",
    "                    columns2[\"Quarter\"].append(int(file.strip('.json')))\n",
    "            except:\n",
    "                pass\n",
    "agg_user_df = pd.DataFrame(columns2)"
   ]
  },
  {
   "cell_type": "code",
   "execution_count": 6,
   "metadata": {},
   "outputs": [],
   "source": [
    "# Formatting the States field in the desired format:\n",
    "agg_user_df['State']=agg_user_df['State'].str.title()\n",
    "agg_user_df['State']=agg_user_df['State'].str.replace(\"-\",\" \")\n",
    "agg_user_df['State']=agg_user_df['State'].str.replace('Dadra & Nagar Haveli & Daman & Diu','Dadra and Nagar Haveli and Daman and Diu')"
   ]
  },
  {
   "cell_type": "markdown",
   "metadata": {},
   "source": [
    "### 3. Extracting the Map transactions data:"
   ]
  },
  {
   "cell_type": "code",
   "execution_count": 7,
   "metadata": {},
   "outputs": [],
   "source": [
    "path3 = \"C:/Users/sanju/OneDrive/Desktop/Projects/PhonePe/pulse/data/map/transaction/hover/country/india/state/\"\n",
    "\n",
    "map_trans_list = os.listdir(path3)\n",
    "\n",
    "columns3 = {'State': [], 'Year': [], 'Quarter': [], 'District': [], 'Count': [],\n",
    "            'Amount': []}\n",
    "\n",
    "for state in map_trans_list:\n",
    "    cur_state = path3 + state + \"/\"\n",
    "    map_year_list = os.listdir(cur_state)\n",
    "    \n",
    "    for year in map_year_list:\n",
    "        cur_year = cur_state + year + \"/\"\n",
    "        map_file_list = os.listdir(cur_year)\n",
    "        \n",
    "        for file in map_file_list:\n",
    "            cur_file = cur_year + file\n",
    "            data = open(cur_file, 'r')\n",
    "            C = json.load(data)\n",
    "            \n",
    "            for i in C[\"data\"][\"hoverDataList\"]:\n",
    "                district = i[\"name\"]\n",
    "                count = i[\"metric\"][0][\"count\"]\n",
    "                amount = i[\"metric\"][0][\"amount\"]\n",
    "                columns3[\"District\"].append(district)\n",
    "                columns3[\"Count\"].append(count)\n",
    "                columns3[\"Amount\"].append(amount)\n",
    "                columns3['State'].append(state)\n",
    "                columns3['Year'].append(year)\n",
    "                columns3['Quarter'].append(int(file.strip('.json')))\n",
    "                \n",
    "map_trans_df = pd.DataFrame(columns3)  "
   ]
  },
  {
   "cell_type": "code",
   "execution_count": 8,
   "metadata": {},
   "outputs": [],
   "source": [
    "# Formatting the States field in the desired format:\n",
    "map_trans_df['State']=map_trans_df['State'].str.title()\n",
    "map_trans_df['District']=map_trans_df['District'].str.title()\n",
    "map_trans_df['State']=map_trans_df['State'].str.replace(\"-\",\" \")\n",
    "map_trans_df['State']=map_trans_df['State'].str.replace('Dadra & Nagar Haveli & Daman & Diu','Dadra and Nagar Haveli and Daman and Diu')"
   ]
  },
  {
   "cell_type": "markdown",
   "metadata": {},
   "source": [
    "### 4. Extracting the Map user data:"
   ]
  },
  {
   "cell_type": "code",
   "execution_count": 9,
   "metadata": {},
   "outputs": [],
   "source": [
    "path4 = \"C:/Users/sanju/OneDrive/Desktop/Projects/PhonePe/pulse/data/map/user/hover/country/india/state/\"\n",
    "\n",
    "map_user_list = os.listdir(path4)\n",
    "\n",
    "columns4 = {\"State\": [], \"Year\": [], \"Quarter\": [], \"District\": [],\n",
    "            \"RegisteredUser\": [], \"AppOpens\": []}\n",
    "\n",
    "for state in map_user_list:\n",
    "    cur_state = path4 + state + \"/\"\n",
    "    map_year_list = os.listdir(cur_state)\n",
    "    \n",
    "    for year in map_year_list:\n",
    "        cur_year = cur_state + year + \"/\"\n",
    "        map_file_list = os.listdir(cur_year)\n",
    "        \n",
    "        for file in map_file_list:\n",
    "            cur_file = cur_year + file\n",
    "            data = open(cur_file, 'r')\n",
    "            D = json.load(data)\n",
    "            \n",
    "            for i in D[\"data\"][\"hoverData\"].items():\n",
    "                district = i[0]\n",
    "                registereduser = i[1][\"registeredUsers\"]\n",
    "                appOpens = i[1]['appOpens']\n",
    "                columns4[\"District\"].append(district)\n",
    "                columns4[\"RegisteredUser\"].append(registereduser)\n",
    "                columns4[\"AppOpens\"].append(appOpens)\n",
    "                columns4['State'].append(state)\n",
    "                columns4['Year'].append(year)\n",
    "                columns4['Quarter'].append(int(file.strip('.json')))\n",
    "                \n",
    "map_user_df = pd.DataFrame(columns4)"
   ]
  },
  {
   "cell_type": "code",
   "execution_count": 10,
   "metadata": {},
   "outputs": [],
   "source": [
    "# Formatting the States field in the desired format:\n",
    "map_user_df['State']=map_trans_df['State'].str.title()\n",
    "map_user_df['District']=map_trans_df['District'].str.title()\n",
    "map_user_df['State']=map_trans_df['State'].str.replace(\"-\",\" \")\n",
    "map_user_df['State']=map_trans_df['State'].str.replace('Dadra & Nagar Haveli & Daman & Diu','Dadra and Nagar Haveli and Daman and Diu')"
   ]
  },
  {
   "cell_type": "code",
   "execution_count": 11,
   "metadata": {},
   "outputs": [
    {
     "data": {
      "text/html": [
       "<div>\n",
       "<style scoped>\n",
       "    .dataframe tbody tr th:only-of-type {\n",
       "        vertical-align: middle;\n",
       "    }\n",
       "\n",
       "    .dataframe tbody tr th {\n",
       "        vertical-align: top;\n",
       "    }\n",
       "\n",
       "    .dataframe thead th {\n",
       "        text-align: right;\n",
       "    }\n",
       "</style>\n",
       "<table border=\"1\" class=\"dataframe\">\n",
       "  <thead>\n",
       "    <tr style=\"text-align: right;\">\n",
       "      <th></th>\n",
       "      <th>State</th>\n",
       "      <th>Year</th>\n",
       "      <th>Quarter</th>\n",
       "      <th>District</th>\n",
       "      <th>RegisteredUser</th>\n",
       "      <th>AppOpens</th>\n",
       "    </tr>\n",
       "  </thead>\n",
       "  <tbody>\n",
       "    <tr>\n",
       "      <th>18295</th>\n",
       "      <td>West Bengal</td>\n",
       "      <td>2024</td>\n",
       "      <td>1</td>\n",
       "      <td>Darjiling District</td>\n",
       "      <td>1671140</td>\n",
       "      <td>13679202</td>\n",
       "    </tr>\n",
       "    <tr>\n",
       "      <th>18296</th>\n",
       "      <td>NaN</td>\n",
       "      <td>2024</td>\n",
       "      <td>1</td>\n",
       "      <td>NaN</td>\n",
       "      <td>1056537</td>\n",
       "      <td>30502875</td>\n",
       "    </tr>\n",
       "    <tr>\n",
       "      <th>18297</th>\n",
       "      <td>NaN</td>\n",
       "      <td>2024</td>\n",
       "      <td>1</td>\n",
       "      <td>NaN</td>\n",
       "      <td>1655920</td>\n",
       "      <td>18688405</td>\n",
       "    </tr>\n",
       "    <tr>\n",
       "      <th>18298</th>\n",
       "      <td>NaN</td>\n",
       "      <td>2024</td>\n",
       "      <td>1</td>\n",
       "      <td>NaN</td>\n",
       "      <td>1183956</td>\n",
       "      <td>33270738</td>\n",
       "    </tr>\n",
       "    <tr>\n",
       "      <th>18299</th>\n",
       "      <td>NaN</td>\n",
       "      <td>2024</td>\n",
       "      <td>1</td>\n",
       "      <td>NaN</td>\n",
       "      <td>686254</td>\n",
       "      <td>31485682</td>\n",
       "    </tr>\n",
       "  </tbody>\n",
       "</table>\n",
       "</div>"
      ],
      "text/plain": [
       "             State  Year  Quarter            District  RegisteredUser  \\\n",
       "18295  West Bengal  2024        1  Darjiling District         1671140   \n",
       "18296          NaN  2024        1                 NaN         1056537   \n",
       "18297          NaN  2024        1                 NaN         1655920   \n",
       "18298          NaN  2024        1                 NaN         1183956   \n",
       "18299          NaN  2024        1                 NaN          686254   \n",
       "\n",
       "       AppOpens  \n",
       "18295  13679202  \n",
       "18296  30502875  \n",
       "18297  18688405  \n",
       "18298  33270738  \n",
       "18299  31485682  "
      ]
     },
     "execution_count": 11,
     "metadata": {},
     "output_type": "execute_result"
    }
   ],
   "source": [
    "# Checking if there are null values:\n",
    "map_user_df.isnull().sum()\n",
    "map_user_df.tail()\n",
    "\n",
    "# There are a few nulls in State field."
   ]
  },
  {
   "cell_type": "code",
   "execution_count": 12,
   "metadata": {},
   "outputs": [],
   "source": [
    "# Based on research, these districts are present in the state of West Bengal.\n",
    "# Hence, we will fill these NaN with \"West Bengal\"\n",
    "\n",
    "map_user_df = map_user_df.fillna(\"West Bengal\")"
   ]
  },
  {
   "cell_type": "code",
   "execution_count": 13,
   "metadata": {},
   "outputs": [
    {
     "data": {
      "text/plain": [
       "State             0\n",
       "Year              0\n",
       "Quarter           0\n",
       "District          0\n",
       "RegisteredUser    0\n",
       "AppOpens          0\n",
       "dtype: int64"
      ]
     },
     "execution_count": 13,
     "metadata": {},
     "output_type": "execute_result"
    }
   ],
   "source": [
    "# the field is confirmed to have no null values now:\n",
    "map_user_df.isna().sum()"
   ]
  },
  {
   "cell_type": "markdown",
   "metadata": {},
   "source": [
    "### 5. Extracting the Top Transactions data:"
   ]
  },
  {
   "cell_type": "code",
   "execution_count": 14,
   "metadata": {},
   "outputs": [],
   "source": [
    "path5 = \"C:/Users/sanju/OneDrive/Desktop/Projects/PhonePe/pulse/data/top/transaction/country/india/state/\"\n",
    "\n",
    "top_trans_list = os.listdir(path5)\n",
    "columns5 = {'State': [], 'Year': [], 'Quarter': [], 'Pincode': [], 'Transaction_count': [],\n",
    "            'Transaction_amount': []}\n",
    "\n",
    "for state in top_trans_list:\n",
    "    cur_state = path5 + state + \"/\"\n",
    "    top_year_list = os.listdir(cur_state)\n",
    "    \n",
    "    for year in top_year_list:\n",
    "        cur_year = cur_state + year + \"/\"\n",
    "        top_file_list = os.listdir(cur_year)\n",
    "        \n",
    "        for file in top_file_list:\n",
    "            cur_file = cur_year + file\n",
    "            data = open(cur_file, 'r')\n",
    "            E = json.load(data)\n",
    "            \n",
    "            for i in E['data']['pincodes']:\n",
    "                name = i['entityName']\n",
    "                count = i['metric']['count']\n",
    "                amount = i['metric']['amount']\n",
    "                columns5['Pincode'].append(name)\n",
    "                columns5['Transaction_count'].append(count)\n",
    "                columns5['Transaction_amount'].append(amount)\n",
    "                columns5['State'].append(state)\n",
    "                columns5['Year'].append(year)\n",
    "                columns5['Quarter'].append(int(file.strip('.json')))\n",
    "top_trans_df = pd.DataFrame(columns5)\n",
    "            "
   ]
  },
  {
   "cell_type": "code",
   "execution_count": 15,
   "metadata": {},
   "outputs": [],
   "source": [
    "# Formatting the States field in the desired format:\n",
    "top_trans_df['State']=top_trans_df['State'].str.title()\n",
    "top_trans_df['State']=top_trans_df['State'].str.replace(\"-\",\" \")\n",
    "top_trans_df['State']=top_trans_df['State'].str.replace('Dadra & Nagar Haveli & Daman & Diu','Dadra and Nagar Haveli and Daman and Diu')"
   ]
  },
  {
   "cell_type": "markdown",
   "metadata": {},
   "source": [
    "### 6. Extracting the Top Users data:"
   ]
  },
  {
   "cell_type": "code",
   "execution_count": 16,
   "metadata": {},
   "outputs": [],
   "source": [
    "path6 = \"C:/Users/sanju/OneDrive/Desktop/Projects/PhonePe/pulse/data/top/user/country/india/state/\"\n",
    "top_user_list = os.listdir(path6)\n",
    "columns6 = {'State': [], 'Year': [], 'Quarter': [], 'Pincode': [],\n",
    "            'RegisteredUsers': []}\n",
    "\n",
    "for state in top_user_list:\n",
    "    cur_state = path6 + state + \"/\"\n",
    "    top_year_list = os.listdir(cur_state)\n",
    "    \n",
    "    for year in top_year_list:\n",
    "        cur_year = cur_state + year + \"/\"\n",
    "        top_file_list = os.listdir(cur_year)\n",
    "        \n",
    "        for file in top_file_list:\n",
    "            cur_file = cur_year + file\n",
    "            data = open(cur_file, 'r')\n",
    "            F = json.load(data)\n",
    "            \n",
    "            for i in F['data']['pincodes']:\n",
    "                name = i['name']\n",
    "                registeredUsers = i['registeredUsers']\n",
    "                columns6['Pincode'].append(name)\n",
    "                columns6['RegisteredUsers'].append(registeredUsers)\n",
    "                columns6['State'].append(state)\n",
    "                columns6['Year'].append(year)\n",
    "                columns6['Quarter'].append(int(file.strip('.json')))\n",
    "top_user_df = pd.DataFrame(columns6)         "
   ]
  },
  {
   "cell_type": "code",
   "execution_count": 17,
   "metadata": {},
   "outputs": [],
   "source": [
    "# Formatting the States field in the desired format:\n",
    "top_user_df['State']=top_user_df['State'].str.title()\n",
    "top_user_df['State']=top_user_df['State'].str.replace(\"-\",\" \")\n",
    "top_user_df['State']=top_user_df['State'].str.replace('Dadra & Nagar Haveli & Daman & Diu','Dadra and Nagar Haveli and Daman and Diu')"
   ]
  },
  {
   "cell_type": "code",
   "execution_count": 18,
   "metadata": {},
   "outputs": [
    {
     "data": {
      "text/html": [
       "<div>\n",
       "<style scoped>\n",
       "    .dataframe tbody tr th:only-of-type {\n",
       "        vertical-align: middle;\n",
       "    }\n",
       "\n",
       "    .dataframe tbody tr th {\n",
       "        vertical-align: top;\n",
       "    }\n",
       "\n",
       "    .dataframe thead th {\n",
       "        text-align: right;\n",
       "    }\n",
       "</style>\n",
       "<table border=\"1\" class=\"dataframe\">\n",
       "  <thead>\n",
       "    <tr style=\"text-align: right;\">\n",
       "      <th></th>\n",
       "      <th>State</th>\n",
       "      <th>Year</th>\n",
       "      <th>Quarter</th>\n",
       "      <th>Pincode</th>\n",
       "      <th>Transaction_count</th>\n",
       "      <th>Transaction_amount</th>\n",
       "    </tr>\n",
       "  </thead>\n",
       "  <tbody>\n",
       "    <tr>\n",
       "      <th>4301</th>\n",
       "      <td>Ladakh</td>\n",
       "      <td>2019</td>\n",
       "      <td>4</td>\n",
       "      <td>None</td>\n",
       "      <td>2014</td>\n",
       "      <td>1.009866e+07</td>\n",
       "    </tr>\n",
       "    <tr>\n",
       "      <th>4343</th>\n",
       "      <td>Ladakh</td>\n",
       "      <td>2020</td>\n",
       "      <td>4</td>\n",
       "      <td>None</td>\n",
       "      <td>13717</td>\n",
       "      <td>3.671160e+07</td>\n",
       "    </tr>\n",
       "  </tbody>\n",
       "</table>\n",
       "</div>"
      ],
      "text/plain": [
       "       State  Year  Quarter Pincode  Transaction_count  Transaction_amount\n",
       "4301  Ladakh  2019        4    None               2014        1.009866e+07\n",
       "4343  Ladakh  2020        4    None              13717        3.671160e+07"
      ]
     },
     "execution_count": 18,
     "metadata": {},
     "output_type": "execute_result"
    }
   ],
   "source": [
    "# Presence of null in dataset:\n",
    "top_user_df.isnull().sum()\n",
    "top_trans_df[top_trans_df.isnull().any(axis=1)]"
   ]
  },
  {
   "cell_type": "code",
   "execution_count": 19,
   "metadata": {},
   "outputs": [
    {
     "name": "stdout",
     "output_type": "stream",
     "text": [
      "Shape of Aggregated Transactions data : (4494, 6)\n",
      "Shape of Aggregated Users data : (6732, 6)\n",
      "Shape of Map Transactions data : (18296, 6)\n",
      "Shape of Map Users data : (18300, 6)\n",
      "Shape of Top Transactions data : (8924, 6)\n",
      "Shape of Top Users data : (8925, 5)\n"
     ]
    }
   ],
   "source": [
    "# print the shape of the data:\n",
    "print('Shape of Aggregated Transactions data :', agg_trans_df.shape)\n",
    "print('Shape of Aggregated Users data :', agg_user_df.shape)\n",
    "print('Shape of Map Transactions data :', map_trans_df.shape)\n",
    "print('Shape of Map Users data :', map_user_df.shape)\n",
    "print('Shape of Top Transactions data :', top_trans_df.shape)\n",
    "print('Shape of Top Users data :', top_user_df.shape)"
   ]
  },
  {
   "cell_type": "markdown",
   "metadata": {},
   "source": [
    "### Converting the dataframes to csv files:"
   ]
  },
  {
   "cell_type": "code",
   "execution_count": 20,
   "metadata": {},
   "outputs": [],
   "source": [
    "agg_trans_df.to_csv('agg_trans.csv',index=False)\n",
    "agg_user_df.to_csv('agg_user.csv',index=False)\n",
    "map_trans_df.to_csv('map_trans.csv',index=False)\n",
    "map_user_df.to_csv('map_user.csv',index=False)\n",
    "top_trans_df.to_csv('top_trans.csv',index=False)\n",
    "top_user_df.to_csv('top_user.csv',index=False)"
   ]
  },
  {
   "cell_type": "markdown",
   "metadata": {},
   "source": [
    "### Connecting to your MySQL database"
   ]
  },
  {
   "cell_type": "code",
   "execution_count": 21,
   "metadata": {},
   "outputs": [],
   "source": [
    "mydb = sql.connect(host=\"localhost\",\n",
    "                   user=\"root\",\n",
    "                   password=\"Sanc3098\",\n",
    "                   database= \"phonepe\"\n",
    "                  )\n",
    "mycursor = mydb.cursor(buffered=True)\n",
    "\n",
    "# Using the phonepe database:\n",
    "mycursor.execute(\"USE phonepe;\")"
   ]
  },
  {
   "cell_type": "markdown",
   "metadata": {},
   "source": [
    "### Creating the tables to insert the respective datasets:\n",
    "\n",
    "#### Table for Aggregated transactions data"
   ]
  },
  {
   "cell_type": "code",
   "execution_count": 22,
   "metadata": {},
   "outputs": [],
   "source": [
    "mycursor.execute('''Create table if not exists agg_trans (State varchar(100), \n",
    "                 Year int, Quarter int, Transaction_type varchar(100), Transaction_count bigint, \n",
    "                 Transaction_amount double)''')\n",
    "\n",
    "for i,row in agg_trans_df.iterrows():\n",
    "    #here %S means string values \n",
    "    sql = \"INSERT INTO agg_trans VALUES (%s,%s,%s,%s,%s,%s)\"\n",
    "    mycursor.execute(sql, tuple(row))\n",
    "    # the connection is not auto committed by default, so we must commit to save our changes\n",
    "    mydb.commit()  "
   ]
  },
  {
   "cell_type": "markdown",
   "metadata": {},
   "source": [
    "#### Table for Aggregated Users data"
   ]
  },
  {
   "cell_type": "code",
   "execution_count": 23,
   "metadata": {},
   "outputs": [],
   "source": [
    "mycursor.execute('''Create table if not exists agg_user (State varchar(100), \n",
    "                 Year int, Quarter int, Brands varchar(100), User_count bigint, User_percentage double)''')\n",
    "\n",
    "for i,row in agg_user_df.iterrows():\n",
    "    sql = \"INSERT INTO agg_user VALUES (%s,%s,%s,%s,%s,%s)\"\n",
    "    mycursor.execute(sql, tuple(row))\n",
    "    mydb.commit()"
   ]
  },
  {
   "cell_type": "markdown",
   "metadata": {},
   "source": [
    "#### Table for Map transactions data"
   ]
  },
  {
   "cell_type": "code",
   "execution_count": 24,
   "metadata": {},
   "outputs": [],
   "source": [
    "mycursor.execute('''Create table if not exists map_trans (State varchar(100), \n",
    "                 Year int, Quarter int, District varchar(100), Transaction_count bigint, \n",
    "                 Transaction_amount double)''')\n",
    "\n",
    "for i,row in map_trans_df.iterrows():\n",
    "    sql = \"INSERT INTO map_trans VALUES (%s,%s,%s,%s,%s,%s)\"\n",
    "    mycursor.execute(sql, tuple(row))\n",
    "    mydb.commit()"
   ]
  },
  {
   "cell_type": "markdown",
   "metadata": {},
   "source": [
    "#### Table for Map Users data"
   ]
  },
  {
   "cell_type": "code",
   "execution_count": 25,
   "metadata": {},
   "outputs": [],
   "source": [
    "mycursor.execute('''Create table if not exists map_user (State varchar(100), \n",
    "                 Year int, Quarter int, District varchar(100), Registered_users bigint, \n",
    "                 App_opens bigint)''')\n",
    "\n",
    "for i,row in map_user_df.iterrows():\n",
    "    sql = \"INSERT INTO map_user VALUES (%s,%s,%s,%s,%s,%s)\"\n",
    "    mycursor.execute(sql, tuple(row))\n",
    "    mydb.commit()"
   ]
  },
  {
   "cell_type": "markdown",
   "metadata": {},
   "source": [
    "#### Table for Top transactions data"
   ]
  },
  {
   "cell_type": "code",
   "execution_count": 26,
   "metadata": {},
   "outputs": [],
   "source": [
    "mycursor.execute('''create table if not exists top_trans (State varchar(100), \n",
    "                 Year int, Quarter int, Pincode int, Transaction_count bigint, Transaction_amount double)''')\n",
    "\n",
    "for i,row in top_trans_df.iterrows():\n",
    "    sql = \"INSERT INTO top_trans VALUES (%s,%s,%s,%s,%s,%s)\"\n",
    "    mycursor.execute(sql, tuple(row))\n",
    "    mydb.commit()"
   ]
  },
  {
   "cell_type": "markdown",
   "metadata": {},
   "source": [
    "#### Table for Top Users data"
   ]
  },
  {
   "cell_type": "code",
   "execution_count": 27,
   "metadata": {},
   "outputs": [],
   "source": [
    "mycursor.execute('''create table top_user (State varchar(100), \n",
    "                 Year int, Quarter int, Pincode int, Registered_users bigint)''')\n",
    "\n",
    "for i,row in top_user_df.iterrows():\n",
    "    sql = \"INSERT INTO top_user VALUES (%s,%s,%s,%s,%s)\"\n",
    "    mycursor.execute(sql, tuple(row))\n",
    "    mydb.commit()"
   ]
  },
  {
   "cell_type": "code",
   "execution_count": 28,
   "metadata": {},
   "outputs": [
    {
     "data": {
      "text/plain": [
       "[('agg_trans',),\n",
       " ('agg_user',),\n",
       " ('map_trans',),\n",
       " ('map_user',),\n",
       " ('top_trans',),\n",
       " ('top_user',)]"
      ]
     },
     "execution_count": 28,
     "metadata": {},
     "output_type": "execute_result"
    }
   ],
   "source": [
    "mycursor.execute(\"show tables\")\n",
    "mycursor.fetchall()"
   ]
  }
 ],
 "metadata": {
  "kernelspec": {
   "display_name": "base",
   "language": "python",
   "name": "python3"
  },
  "language_info": {
   "codemirror_mode": {
    "name": "ipython",
    "version": 3
   },
   "file_extension": ".py",
   "mimetype": "text/x-python",
   "name": "python",
   "nbconvert_exporter": "python",
   "pygments_lexer": "ipython3",
   "version": "3.11.7"
  }
 },
 "nbformat": 4,
 "nbformat_minor": 2
}
